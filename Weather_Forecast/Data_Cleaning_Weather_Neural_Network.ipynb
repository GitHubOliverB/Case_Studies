{
 "cells": [
  {
   "cell_type": "markdown",
   "metadata": {},
   "source": [
    "# Rain in Australia\n",
    "## Table of Contents\n",
    "\n",
    "Work in progress\n"
   ]
  },
  {
   "cell_type": "markdown",
   "metadata": {},
   "source": [
    "## 1. Predict rain tomorrow in Australia\n",
    "\n",
    "Before we can start with our analysis, we have to check and prepare our data. This is a crucial task and is necessary to prevent data-driven mistakes.\n",
    "\n",
    "The dataset is hosted by Kaggle: https://www.kaggle.com/jsphyg/weather-dataset-rattle-package\n",
    "\n",
    "Observations were drawn from numerous weather stations. The daily observations are available from http://www.bom.gov.au/climate/data.   \n",
    "Copyright Commonwealth of Australia 2010, Bureau of Meteorology.\n",
    "\n",
    "Definitions adapted from http://www.bom.gov.au/climate/dwo/IDCJDW0000.shtml\n",
    "\n",
    "Note: You should exclude the variable Risk-MM when training a binary classification model.   \n",
    "Not excluding it will leak the answers to your model and reduce its predictability."
   ]
  },
  {
   "cell_type": "markdown",
   "metadata": {},
   "source": [
    "### 2. Import libraries"
   ]
  },
  {
   "cell_type": "code",
   "execution_count": 1,
   "metadata": {},
   "outputs": [],
   "source": [
    "from sklearn.metrics import classification_report, confusion_matrix\n",
    "import matplotlib.pyplot as plt\n",
    "import numpy as np\n",
    "import pandas as pd"
   ]
  },
  {
   "cell_type": "markdown",
   "metadata": {},
   "source": [
    "### 3. Exploratory data analysis "
   ]
  },
  {
   "cell_type": "code",
   "execution_count": 10,
   "metadata": {},
   "outputs": [],
   "source": [
    "data_path = 'data\\\\weatherAUS.csv'\n",
    "df = pd.read_csv(data_path, delimiter=\",\")\n",
    "df.drop(['RISK_MM'], axis=1, inplace=True)"
   ]
  },
  {
   "cell_type": "markdown",
   "metadata": {},
   "source": [
    "__Dimensions and Overview__"
   ]
  },
  {
   "cell_type": "code",
   "execution_count": 11,
   "metadata": {},
   "outputs": [
    {
     "name": "stdout",
     "output_type": "stream",
     "text": [
      "Shape of the dataset: (142193, 23)\n",
      "Preview of dataset:\n",
      "         Date Location  MinTemp  MaxTemp  Rainfall  Evaporation  Sunshine  \\\n",
      "0  2008-12-01   Albury     13.4     22.9       0.6          NaN       NaN   \n",
      "1  2008-12-02   Albury      7.4     25.1       0.0          NaN       NaN   \n",
      "2  2008-12-03   Albury     12.9     25.7       0.0          NaN       NaN   \n",
      "3  2008-12-04   Albury      9.2     28.0       0.0          NaN       NaN   \n",
      "4  2008-12-05   Albury     17.5     32.3       1.0          NaN       NaN   \n",
      "\n",
      "  WindGustDir  WindGustSpeed WindDir9am  ... Humidity9am  Humidity3pm  \\\n",
      "0           W           44.0          W  ...        71.0         22.0   \n",
      "1         WNW           44.0        NNW  ...        44.0         25.0   \n",
      "2         WSW           46.0          W  ...        38.0         30.0   \n",
      "3          NE           24.0         SE  ...        45.0         16.0   \n",
      "4           W           41.0        ENE  ...        82.0         33.0   \n",
      "\n",
      "   Pressure9am  Pressure3pm  Cloud9am  Cloud3pm  Temp9am  Temp3pm  RainToday  \\\n",
      "0       1007.7       1007.1       8.0       NaN     16.9     21.8         No   \n",
      "1       1010.6       1007.8       NaN       NaN     17.2     24.3         No   \n",
      "2       1007.6       1008.7       NaN       2.0     21.0     23.2         No   \n",
      "3       1017.6       1012.8       NaN       NaN     18.1     26.5         No   \n",
      "4       1010.8       1006.0       7.0       8.0     17.8     29.7         No   \n",
      "\n",
      "   RainTomorrow  \n",
      "0            No  \n",
      "1            No  \n",
      "2            No  \n",
      "3            No  \n",
      "4            No  \n",
      "\n",
      "[5 rows x 23 columns]\n"
     ]
    }
   ],
   "source": [
    "print('Shape of the dataset: {}'.format(df.shape))\n",
    "print('Preview of dataset:')\n",
    "print(df.head(5))"
   ]
  },
  {
   "cell_type": "markdown",
   "metadata": {},
   "source": [
    "__Feature types and counts__"
   ]
  },
  {
   "cell_type": "code",
   "execution_count": 3,
   "metadata": {},
   "outputs": [
    {
     "name": "stdout",
     "output_type": "stream",
     "text": [
      "<class 'pandas.core.frame.DataFrame'>\n",
      "RangeIndex: 142193 entries, 0 to 142192\n",
      "Data columns (total 23 columns):\n",
      "Date             142193 non-null object\n",
      "Location         142193 non-null object\n",
      "MinTemp          141556 non-null float64\n",
      "MaxTemp          141871 non-null float64\n",
      "Rainfall         140787 non-null float64\n",
      "Evaporation      81350 non-null float64\n",
      "Sunshine         74377 non-null float64\n",
      "WindGustDir      132863 non-null object\n",
      "WindGustSpeed    132923 non-null float64\n",
      "WindDir9am       132180 non-null object\n",
      "WindDir3pm       138415 non-null object\n",
      "WindSpeed9am     140845 non-null float64\n",
      "WindSpeed3pm     139563 non-null float64\n",
      "Humidity9am      140419 non-null float64\n",
      "Humidity3pm      138583 non-null float64\n",
      "Pressure9am      128179 non-null float64\n",
      "Pressure3pm      128212 non-null float64\n",
      "Cloud9am         88536 non-null float64\n",
      "Cloud3pm         85099 non-null float64\n",
      "Temp9am          141289 non-null float64\n",
      "Temp3pm          139467 non-null float64\n",
      "RainToday        140787 non-null object\n",
      "RainTomorrow     142193 non-null object\n",
      "dtypes: float64(16), object(7)\n",
      "memory usage: 25.0+ MB\n"
     ]
    }
   ],
   "source": [
    "df.info()"
   ]
  },
  {
   "cell_type": "markdown",
   "metadata": {},
   "source": [
    "As we can see, there are several categorial and numerical features.   \n",
    "Furthermore it appears that there are some missing values for almost all features that we have to deal with later on.  \n",
    "Let's start by ordering the features in two lists."
   ]
  },
  {
   "cell_type": "markdown",
   "metadata": {},
   "source": [
    "__Feature Summary__"
   ]
  },
  {
   "cell_type": "code",
   "execution_count": 4,
   "metadata": {},
   "outputs": [
    {
     "name": "stdout",
     "output_type": "stream",
     "text": [
      "There are 7 categorical and 16 numerical variables.\n",
      "\n",
      "The categorical features are: \n",
      "['Date', 'Location', 'WindGustDir', 'WindDir9am', 'WindDir3pm', 'RainToday', 'RainTomorrow']\n",
      "\n",
      "The numerical features are: \n",
      "['MinTemp', 'MaxTemp', 'Rainfall', 'Evaporation', 'Sunshine', 'WindGustSpeed', 'WindSpeed9am', 'WindSpeed3pm', 'Humidity9am', 'Humidity3pm', 'Pressure9am', 'Pressure3pm', 'Cloud9am', 'Cloud3pm', 'Temp9am', 'Temp3pm']\n"
     ]
    }
   ],
   "source": [
    "cat_feature_list = [var for var in df.columns if df[var].dtype=='O']\n",
    "num_feature_list = [var for var in df.columns if df[var].dtype=='float64']\n",
    "print('There are {} categorical and {} numerical variables.\\n'.format(len(cat_feature_list), len(num_feature_list)))\n",
    "print('The categorical features are: \\n{}\\n'.format(cat_feature_list))\n",
    "print('The numerical features are: \\n{}'.format(num_feature_list))"
   ]
  },
  {
   "cell_type": "markdown",
   "metadata": {},
   "source": [
    "First of we should clearify the features, measurements and units.\n",
    "\n",
    "* __Date__: The date of the observation.\n",
    "* __Location__: The common name of the location of the weather station.\n",
    "* __MinTemp__ and __MaxTemp__: Minimum and maximum temperatures on that day in degrees celsius. *\n",
    "* __Rainfall__: The amount of rainfall recorded for the day in liters per square meters mm.\n",
    "* __Evaporation__: The so-called Class A pan evaporation (mm) in the 24 hours to 9am.\n",
    "* __Sunshine__: The number of hours of bright sunshine in the day.\n",
    "* __WindGustDir__: The direction of the strongest wind gust in the 24 hours to midnight.\n",
    "* __WindGustSpeed__: The speed (km/h) of the strongest wind gust in the 24 hours to midnight.\n",
    "* __WindDir9am__ and __WindDir3pm__: Direction of the wind at 9am and 3pm.\n",
    "* __WindSpeed9am__ and __WindSpeed3pm__: Wind speed (km/h) averaged over 10 minutes prior to 9am and 3pm.\n",
    "* __Humidity9am__ and __Humidity3pm__: Humidity (percent) at 9am and 3pm.\n",
    "* __Pressure9am__ and __Pressure3pm__: Atmospheric pressure (hpa) reduced to mean sea level at 9am and 3pm.\n",
    "* __Cloud9am__ and __Cloud3pm__: Fraction of sky obscured by cloud at 9am. This is measured in \"oktas\", which are a unit of eigths. It records how many eigths of the sky are obscured by cloud. A 0 measure indicates completely clear sky whilst an 8 indicates that it is completely overcast.\n",
    "* __Temp9am__ and __Temp3pm__: Temperature at 9am and 3pm in degrees celsius.\n",
    "* __RainToday__: Boolean: 'Yes' if precipitation (mm) in the 24 hours to 9am exceeds 1mm, otherwise 'No'.\n",
    "* __RainTomorrow__: The target variable.\n",
    "\n",
    "*\n",
    "Comment: This is a bit tricky, because the day goes from 9 am to 9 am for this measurement. This will be further explained later on. \n",
    "\n",
    "Now we take a closer look at the possible values for the categorial features."
   ]
  },
  {
   "cell_type": "markdown",
   "metadata": {},
   "source": [
    "__Inspecting categorial features__"
   ]
  },
  {
   "cell_type": "code",
   "execution_count": 5,
   "metadata": {},
   "outputs": [
    {
     "name": "stdout",
     "output_type": "stream",
     "text": [
      "['2008-12-01' '2008-12-02' '2008-12-03' ... '2008-01-29' '2008-01-30'\n",
      " '2008-01-31']\n",
      "\n",
      " There are a total of 3436 unique values for the feature 'Date'.\n",
      "\n",
      "['Albury' 'BadgerysCreek' 'Cobar' 'CoffsHarbour' 'Moree' 'Newcastle'\n",
      " 'NorahHead' 'NorfolkIsland' 'Penrith' 'Richmond' 'Sydney' 'SydneyAirport'\n",
      " 'WaggaWagga' 'Williamtown' 'Wollongong' 'Canberra' 'Tuggeranong'\n",
      " 'MountGinini' 'Ballarat' 'Bendigo' 'Sale' 'MelbourneAirport' 'Melbourne'\n",
      " 'Mildura' 'Nhil' 'Portland' 'Watsonia' 'Dartmoor' 'Brisbane' 'Cairns'\n",
      " 'GoldCoast' 'Townsville' 'Adelaide' 'MountGambier' 'Nuriootpa' 'Woomera'\n",
      " 'Albany' 'Witchcliffe' 'PearceRAAF' 'PerthAirport' 'Perth' 'SalmonGums'\n",
      " 'Walpole' 'Hobart' 'Launceston' 'AliceSprings' 'Darwin' 'Katherine'\n",
      " 'Uluru']\n",
      "\n",
      " There are a total of 49 unique values for the feature 'Location'.\n",
      "\n",
      "['W' 'WNW' 'WSW' 'NE' 'NNW' 'N' 'NNE' 'SW' 'ENE' 'SSE' 'S' 'NW' 'SE' 'ESE'\n",
      " nan 'E' 'SSW']\n",
      "\n",
      " There are a total of 17 unique values for the feature 'WindGustDir'.\n",
      "\n",
      "['W' 'NNW' 'SE' 'ENE' 'SW' 'SSE' 'S' 'NE' nan 'SSW' 'N' 'WSW' 'ESE' 'E'\n",
      " 'NW' 'WNW' 'NNE']\n",
      "\n",
      " There are a total of 17 unique values for the feature 'WindDir9am'.\n",
      "\n",
      "['WNW' 'WSW' 'E' 'NW' 'W' 'SSE' 'ESE' 'ENE' 'NNW' 'SSW' 'SW' 'SE' 'N' 'S'\n",
      " 'NNE' nan 'NE']\n",
      "\n",
      " There are a total of 17 unique values for the feature 'WindDir3pm'.\n",
      "\n",
      "['No' 'Yes' nan]\n",
      "\n",
      " There are a total of 3 unique values for the feature 'RainToday'.\n",
      "\n",
      "['No' 'Yes']\n",
      "\n",
      " There are a total of 2 unique values for the feature 'RainTomorrow'.\n",
      "\n"
     ]
    }
   ],
   "source": [
    "for cat in cat_feature_list:\n",
    "    print(df[cat].unique())\n",
    "    print(\"\\n There are a total of {} unique values for the feature \\'{}\\'.\\n\".format(len(df[cat].unique()), cat))"
   ]
  },
  {
   "cell_type": "markdown",
   "metadata": {},
   "source": [
    "Ignoring the *nan* values, we can summarize that:  \n",
    "* __Dates__ are denoted as *YY-MM-DD*. It seems like the record includes 3436 days.\n",
    "* In __Location__, we have a list of all the locations of 49 weather stations. The data was recorded in Australia.  \n",
    "* It appears that the same notation is used for the direction of the wind in __WindGustDir__, __WindDir9am__ and __WindDir3pm__. There are a total of $16$ directions with a seperation of $22.5°$ starting from north (N).\n",
    "* Finally we have two binary features, __RainToday__ and __RainTomorrow__ with the later feature being our target variable for the classification we are about to do.\n",
    "\n",
    "Luckily, there doesn't seem to be an error or typo here.\n",
    "\n",
    "We can now take a look at the numerical features."
   ]
  },
  {
   "cell_type": "markdown",
   "metadata": {},
   "source": [
    "__Inspecting numerical features__"
   ]
  },
  {
   "cell_type": "code",
   "execution_count": 6,
   "metadata": {},
   "outputs": [
    {
     "data": {
      "text/html": [
       "<div>\n",
       "<style scoped>\n",
       "    .dataframe tbody tr th:only-of-type {\n",
       "        vertical-align: middle;\n",
       "    }\n",
       "\n",
       "    .dataframe tbody tr th {\n",
       "        vertical-align: top;\n",
       "    }\n",
       "\n",
       "    .dataframe thead th {\n",
       "        text-align: right;\n",
       "    }\n",
       "</style>\n",
       "<table border=\"1\" class=\"dataframe\">\n",
       "  <thead>\n",
       "    <tr style=\"text-align: right;\">\n",
       "      <th></th>\n",
       "      <th>count</th>\n",
       "      <th>mean</th>\n",
       "      <th>std</th>\n",
       "      <th>min</th>\n",
       "      <th>25%</th>\n",
       "      <th>50%</th>\n",
       "      <th>75%</th>\n",
       "      <th>max</th>\n",
       "    </tr>\n",
       "  </thead>\n",
       "  <tbody>\n",
       "    <tr>\n",
       "      <td>MinTemp</td>\n",
       "      <td>141556.0</td>\n",
       "      <td>12.186400</td>\n",
       "      <td>6.403283</td>\n",
       "      <td>-8.5</td>\n",
       "      <td>7.6</td>\n",
       "      <td>12.0</td>\n",
       "      <td>16.8</td>\n",
       "      <td>33.9</td>\n",
       "    </tr>\n",
       "    <tr>\n",
       "      <td>MaxTemp</td>\n",
       "      <td>141871.0</td>\n",
       "      <td>23.226784</td>\n",
       "      <td>7.117618</td>\n",
       "      <td>-4.8</td>\n",
       "      <td>17.9</td>\n",
       "      <td>22.6</td>\n",
       "      <td>28.2</td>\n",
       "      <td>48.1</td>\n",
       "    </tr>\n",
       "    <tr>\n",
       "      <td>Rainfall</td>\n",
       "      <td>140787.0</td>\n",
       "      <td>2.349974</td>\n",
       "      <td>8.465173</td>\n",
       "      <td>0.0</td>\n",
       "      <td>0.0</td>\n",
       "      <td>0.0</td>\n",
       "      <td>0.8</td>\n",
       "      <td>371.0</td>\n",
       "    </tr>\n",
       "    <tr>\n",
       "      <td>Evaporation</td>\n",
       "      <td>81350.0</td>\n",
       "      <td>5.469824</td>\n",
       "      <td>4.188537</td>\n",
       "      <td>0.0</td>\n",
       "      <td>2.6</td>\n",
       "      <td>4.8</td>\n",
       "      <td>7.4</td>\n",
       "      <td>145.0</td>\n",
       "    </tr>\n",
       "    <tr>\n",
       "      <td>Sunshine</td>\n",
       "      <td>74377.0</td>\n",
       "      <td>7.624853</td>\n",
       "      <td>3.781525</td>\n",
       "      <td>0.0</td>\n",
       "      <td>4.9</td>\n",
       "      <td>8.5</td>\n",
       "      <td>10.6</td>\n",
       "      <td>14.5</td>\n",
       "    </tr>\n",
       "    <tr>\n",
       "      <td>WindGustSpeed</td>\n",
       "      <td>132923.0</td>\n",
       "      <td>39.984292</td>\n",
       "      <td>13.588801</td>\n",
       "      <td>6.0</td>\n",
       "      <td>31.0</td>\n",
       "      <td>39.0</td>\n",
       "      <td>48.0</td>\n",
       "      <td>135.0</td>\n",
       "    </tr>\n",
       "    <tr>\n",
       "      <td>WindSpeed9am</td>\n",
       "      <td>140845.0</td>\n",
       "      <td>14.001988</td>\n",
       "      <td>8.893337</td>\n",
       "      <td>0.0</td>\n",
       "      <td>7.0</td>\n",
       "      <td>13.0</td>\n",
       "      <td>19.0</td>\n",
       "      <td>130.0</td>\n",
       "    </tr>\n",
       "    <tr>\n",
       "      <td>WindSpeed3pm</td>\n",
       "      <td>139563.0</td>\n",
       "      <td>18.637576</td>\n",
       "      <td>8.803345</td>\n",
       "      <td>0.0</td>\n",
       "      <td>13.0</td>\n",
       "      <td>19.0</td>\n",
       "      <td>24.0</td>\n",
       "      <td>87.0</td>\n",
       "    </tr>\n",
       "    <tr>\n",
       "      <td>Humidity9am</td>\n",
       "      <td>140419.0</td>\n",
       "      <td>68.843810</td>\n",
       "      <td>19.051293</td>\n",
       "      <td>0.0</td>\n",
       "      <td>57.0</td>\n",
       "      <td>70.0</td>\n",
       "      <td>83.0</td>\n",
       "      <td>100.0</td>\n",
       "    </tr>\n",
       "    <tr>\n",
       "      <td>Humidity3pm</td>\n",
       "      <td>138583.0</td>\n",
       "      <td>51.482606</td>\n",
       "      <td>20.797772</td>\n",
       "      <td>0.0</td>\n",
       "      <td>37.0</td>\n",
       "      <td>52.0</td>\n",
       "      <td>66.0</td>\n",
       "      <td>100.0</td>\n",
       "    </tr>\n",
       "    <tr>\n",
       "      <td>Pressure9am</td>\n",
       "      <td>128179.0</td>\n",
       "      <td>1017.653758</td>\n",
       "      <td>7.105476</td>\n",
       "      <td>980.5</td>\n",
       "      <td>1012.9</td>\n",
       "      <td>1017.6</td>\n",
       "      <td>1022.4</td>\n",
       "      <td>1041.0</td>\n",
       "    </tr>\n",
       "    <tr>\n",
       "      <td>Pressure3pm</td>\n",
       "      <td>128212.0</td>\n",
       "      <td>1015.258204</td>\n",
       "      <td>7.036677</td>\n",
       "      <td>977.1</td>\n",
       "      <td>1010.4</td>\n",
       "      <td>1015.2</td>\n",
       "      <td>1020.0</td>\n",
       "      <td>1039.6</td>\n",
       "    </tr>\n",
       "    <tr>\n",
       "      <td>Cloud9am</td>\n",
       "      <td>88536.0</td>\n",
       "      <td>4.437189</td>\n",
       "      <td>2.887016</td>\n",
       "      <td>0.0</td>\n",
       "      <td>1.0</td>\n",
       "      <td>5.0</td>\n",
       "      <td>7.0</td>\n",
       "      <td>9.0</td>\n",
       "    </tr>\n",
       "    <tr>\n",
       "      <td>Cloud3pm</td>\n",
       "      <td>85099.0</td>\n",
       "      <td>4.503167</td>\n",
       "      <td>2.720633</td>\n",
       "      <td>0.0</td>\n",
       "      <td>2.0</td>\n",
       "      <td>5.0</td>\n",
       "      <td>7.0</td>\n",
       "      <td>9.0</td>\n",
       "    </tr>\n",
       "    <tr>\n",
       "      <td>Temp9am</td>\n",
       "      <td>141289.0</td>\n",
       "      <td>16.987509</td>\n",
       "      <td>6.492838</td>\n",
       "      <td>-7.2</td>\n",
       "      <td>12.3</td>\n",
       "      <td>16.7</td>\n",
       "      <td>21.6</td>\n",
       "      <td>40.2</td>\n",
       "    </tr>\n",
       "    <tr>\n",
       "      <td>Temp3pm</td>\n",
       "      <td>139467.0</td>\n",
       "      <td>21.687235</td>\n",
       "      <td>6.937594</td>\n",
       "      <td>-5.4</td>\n",
       "      <td>16.6</td>\n",
       "      <td>21.1</td>\n",
       "      <td>26.4</td>\n",
       "      <td>46.7</td>\n",
       "    </tr>\n",
       "  </tbody>\n",
       "</table>\n",
       "</div>"
      ],
      "text/plain": [
       "                  count         mean        std    min     25%     50%  \\\n",
       "MinTemp        141556.0    12.186400   6.403283   -8.5     7.6    12.0   \n",
       "MaxTemp        141871.0    23.226784   7.117618   -4.8    17.9    22.6   \n",
       "Rainfall       140787.0     2.349974   8.465173    0.0     0.0     0.0   \n",
       "Evaporation     81350.0     5.469824   4.188537    0.0     2.6     4.8   \n",
       "Sunshine        74377.0     7.624853   3.781525    0.0     4.9     8.5   \n",
       "WindGustSpeed  132923.0    39.984292  13.588801    6.0    31.0    39.0   \n",
       "WindSpeed9am   140845.0    14.001988   8.893337    0.0     7.0    13.0   \n",
       "WindSpeed3pm   139563.0    18.637576   8.803345    0.0    13.0    19.0   \n",
       "Humidity9am    140419.0    68.843810  19.051293    0.0    57.0    70.0   \n",
       "Humidity3pm    138583.0    51.482606  20.797772    0.0    37.0    52.0   \n",
       "Pressure9am    128179.0  1017.653758   7.105476  980.5  1012.9  1017.6   \n",
       "Pressure3pm    128212.0  1015.258204   7.036677  977.1  1010.4  1015.2   \n",
       "Cloud9am        88536.0     4.437189   2.887016    0.0     1.0     5.0   \n",
       "Cloud3pm        85099.0     4.503167   2.720633    0.0     2.0     5.0   \n",
       "Temp9am        141289.0    16.987509   6.492838   -7.2    12.3    16.7   \n",
       "Temp3pm        139467.0    21.687235   6.937594   -5.4    16.6    21.1   \n",
       "\n",
       "                  75%     max  \n",
       "MinTemp          16.8    33.9  \n",
       "MaxTemp          28.2    48.1  \n",
       "Rainfall          0.8   371.0  \n",
       "Evaporation       7.4   145.0  \n",
       "Sunshine         10.6    14.5  \n",
       "WindGustSpeed    48.0   135.0  \n",
       "WindSpeed9am     19.0   130.0  \n",
       "WindSpeed3pm     24.0    87.0  \n",
       "Humidity9am      83.0   100.0  \n",
       "Humidity3pm      66.0   100.0  \n",
       "Pressure9am    1022.4  1041.0  \n",
       "Pressure3pm    1020.0  1039.6  \n",
       "Cloud9am          7.0     9.0  \n",
       "Cloud3pm          7.0     9.0  \n",
       "Temp9am          21.6    40.2  \n",
       "Temp3pm          26.4    46.7  "
      ]
     },
     "execution_count": 6,
     "metadata": {},
     "output_type": "execute_result"
    }
   ],
   "source": [
    "df.describe().T"
   ]
  },
  {
   "cell_type": "markdown",
   "metadata": {},
   "source": [
    "Comparing the range of the four temperature features __MinTemp__, __MaxTemp__, __Temp9am__ and __Temp3pm__ it indeed seems reasonable that the temperature is measured in degrees celius. Furhtermore the highest and lowest temperature recorded in __Temp9am__ and __Temp3pm__ is smaller/bigger than the highest and lowest temperature recorded in __MaxTemp__ in __MinTemp__, which suggests that the features are consistent. We should still check that for each day!\n",
    "\n",
    "As for Rainfall, we can immediately see that it hardly ever rains in Australia, since for $75\\,\\%$ of the recorded days, it rained $0.8\\,\\frac{\\text{l}}{\\text{m}^{2}}$ or less. Although it seems to be possible to actually rain quite alot with up to $371\\,\\frac{\\text{l}}{\\text{m}^{2}}$ which is basically a flood. This may be considered an outliner.\n",
    "\n",
    "__Evaporation__ is a troublesome feature, as it is measured with a so-called *__Class-A evaporation pan__*, which can overflow on rainy days or on events of intense rainfall. The dimensions used for the different stations are not given in detail. But we can ignore this problem, since we are not interested in the intensity of the rainfall, but if it did or didn't rain at all.\n",
    "\n",
    "The range of the windspeed features __WindGustSpeed__, __WindSpeed9am__ and __WindSpeed3pm__ seems reasonable with the extrem values of above $100\\,\\frac{\\text{km}}{\\text{h}}$ corresponding to hurricanes.\n",
    "\n",
    "While the minimum of $0$ hours of sunshine may sound surprising for Australia at first, it makes sense on very cloudy days (probably also during wintertime). The average and maximum value seems reasonable.\n",
    "\n",
    "The range of the __Humidity__ features are between $0\\,\\%$ and $100\\,\\%$ and thus perfectly reasonable.\n",
    "\n",
    "With $1\\,$atm as $1013.25\\,$hpa, the measured atmospheric pressure seems to be totally normal. There doesn't seem to be any outliners.\n",
    "\n",
    "Jumping to __Cloud9am__ and __Cloud3pm__ we actually have an additional value for the range. A value of $9$ indicates that the sky is obstructed from view. Here we should furhter check if we only have integer values!\n",
    "\n",
    "\n",
    "\n",
    "Based on the data, the weather seems to be pretty *normal* for the most part with an occasion extrem weather phenomenon.  We have to think how we will deal with these records. __Evaporation__ may not be trustworthy to use as a feature.\n",
    "\n",
    "To-do-List:\n",
    "* Check if __Maxtemp/Mintemp__ is consisten with __Temp9am/Temp3pm__\n",
    "* Find outliners, especially in __Rainfall__, __Evaporation__,  __WindGustSpeed__, __WindSpeed9am__ and __WindSpeed3pm__"
   ]
  },
  {
   "cell_type": "markdown",
   "metadata": {},
   "source": [
    "__Consistency Check: Temperature Features__"
   ]
  },
  {
   "cell_type": "code",
   "execution_count": 7,
   "metadata": {},
   "outputs": [
    {
     "name": "stdout",
     "output_type": "stream",
     "text": [
      "        MinTemp  Temp9am  Temp3pm\n",
      "12         15.9     17.4     15.8\n",
      "100        20.9     22.2     18.8\n",
      "406        22.6     25.1     19.9\n",
      "600         7.5      9.3      7.3\n",
      "765        24.0     24.5     21.2\n",
      "...         ...      ...      ...\n",
      "139379     26.0     29.6     25.7\n",
      "139829     26.7     27.2     24.8\n",
      "140967     21.4     23.8     17.7\n",
      "141894     14.2     14.2     14.0\n",
      "142124     19.3     21.3     18.5\n",
      "\n",
      "[1188 rows x 3 columns]\n"
     ]
    }
   ],
   "source": [
    "print(df[['MinTemp', 'Temp9am', 'Temp3pm']][(df['MinTemp'] > df['Temp9am']) | (df['MinTemp'] > df['Temp3pm'])])"
   ]
  },
  {
   "cell_type": "markdown",
   "metadata": {},
   "source": [
    "Comment: As told above, here we explore the __Mintemp__ and __Maxtemp__ definition.\n",
    "\n",
    "Here I was looking for the case if __Mintemp__ is higher than either __Temp9am__ or __Temp3pm__. This shouldn't be the case, but as we can clearly see, it is the case for 1188 rows. This seems problematic, so let's have a look again at the publisher:\n",
    "\n",
    "> The daily (24 hour) maximum and minimum air temperatures are nominally recorded at 9 am local time. The highest temperature for the 24 hours leading up to the observation is recorded as the maximum temperature for the previous day, while the lowest temperature over the previous 24 hours is recorded as the minimum temperature for the day on which the observation was made. If, for some reason, an observation is unable to be made, the next observation is recorded as an accumulation, since there has been more than one day over which the maximum and minimum temperature may have occurred.\n",
    "\n",
    "http://www.bom.gov.au/climate/cdo/about/about-airtemp-data.shtml\n",
    "\n",
    "\n",
    "\n",
    "That's actually really helpful. So what we need to do is to compare the three temperature measurements __Temp9am__(day i-1), __Temp3pm__(day i-1) and __Temp9am__(day i) with __Mintemp__ (day i) and __Maxtemp__ (day i-1) as this counts as one day. Though keep in mind that we need to exclude the 9 am measurements for the next day (right?)."
   ]
  },
  {
   "cell_type": "code",
   "execution_count": 8,
   "metadata": {},
   "outputs": [
    {
     "name": "stdout",
     "output_type": "stream",
     "text": [
      "Affected row: 384\n"
     ]
    }
   ],
   "source": [
    "df_shifted = df.shift()\n",
    "MinMaxTemp_check = len(df[(df['MinTemp'] > df_shifted['Temp9am']) |\n",
    "                       (df['MinTemp'] > df_shifted['Temp3pm']) |\n",
    "                       (df['MaxTemp'] < df['Temp9am']) |\n",
    "                       (df['MaxTemp'] < df['Temp3pm'])])\n",
    "print(\"Affected row: {}\".format(MinMaxTemp_check))"
   ]
  },
  {
   "cell_type": "markdown",
   "metadata": {},
   "source": [
    "Now we can see that this is not a huge problem anymore and only affects 384 rows. Since we are not completly sure which measurement is excluded from the day and which feature we can trust, we can't say for sure how to resolve this problem. But since this only is such a small part of our data, I feel safe ignoring this problem for now."
   ]
  },
  {
   "cell_type": "markdown",
   "metadata": {},
   "source": [
    "__Consistency Check: Humidity Features__"
   ]
  },
  {
   "cell_type": "code",
   "execution_count": 14,
   "metadata": {},
   "outputs": [
    {
     "name": "stdout",
     "output_type": "stream",
     "text": [
      "[ 71.  44.  38.  45.  82.  55.  49.  48.  42.  58.  89.  76.  65.  50.\n",
      "  69.  80.  47.  56.  54.  41.  78.  46.  43.  33.  34.  36.  52.  51.\n",
      "  40.  35.  39.  60.  37.  27.  32.  53.  20.  66.  63.  57.  62.  87.\n",
      "  61.  59.  92.  72.  67.  75.  88.  68.  73.  74.  83.  77.  70.  81.\n",
      "  86.  97.  99.  91.  85.  93.  84.  94.  79.  98.  96.  95.  90.  64.\n",
      "  29.  21. 100.  24.  nan  25.  31.  18.  23.  26.  28.  30.  19.  22.\n",
      "  17.  15.   9.  12.  13.  16.   6.  10.  14.  11.   7.   8.   5.   3.\n",
      "   2.   4.   0.   1.]\n",
      "[ 22.  25.  30.  16.  33.  23.  19.   9.  27.  91.  93.  43.  28.  82.\n",
      "  65.  32.  26.  24.  17.  15.  70.  12.   8.  31.  20.  10.  21.  39.\n",
      "  13.  11.  69.  18.  14.  35.  90.  68.  74.  41.  34.  78.  49.  37.\n",
      "  42.  47.  52.  29.  86.  89.  62.  79.  48.  46.  38.  44.  51.  36.\n",
      "  45.  40.  53.  61.  59.  63.  54.  57.  50.  58.  75.  97.  80.  95.\n",
      "  56.  72.  60.  71.  73.  81.  76.  64.  87.  85.  67.  55.  77.  84.\n",
      "   7.  99.  92.  66.  83.  94.  96.  88.  nan 100.  98.   5.   6.   1.\n",
      "   4.   2.   3.   0.]\n"
     ]
    }
   ],
   "source": [
    "print(df['Humidity9am'].unique())\n",
    "print(df['Humidity3pm'].unique())"
   ]
  },
  {
   "cell_type": "markdown",
   "metadata": {},
   "source": [
    "Ignoring the nan values, the humidity features really only recorded integers from 0 to 100.  \n",
    "As for the other features, the table above given by the describe function is sufficient."
   ]
  },
  {
   "cell_type": "markdown",
   "metadata": {},
   "source": [
    "__Outliners in Rainfall, Evaporation,  WindGustSpeed, WindSpeed9am and WindSpeed3pm__"
   ]
  },
  {
   "cell_type": "code",
   "execution_count": 55,
   "metadata": {},
   "outputs": [
    {
     "data": {
      "image/png": "[encoded data removed]",
      "text/plain": [
       "<Figure size 1080x576 with 5 Axes>"
      ]
     },
     "metadata": {
      "needs_background": "light"
     },
     "output_type": "display_data"
    }
   ],
   "source": [
    "plt.figure(figsize=(15,8))\n",
    "\n",
    "plt.subplot(2, 3, 1)\n",
    "fig = df.boxplot(column='Rainfall')\n",
    "fig.set_ylabel('Rainfall [$l\\,/\\,mm^2$]')\n",
    "\n",
    "plt.subplot(2, 3, 2)\n",
    "fig = df.boxplot(column='Evaporation')\n",
    "fig.set_title('')\n",
    "fig.set_ylabel('Evaporation [$mm$]')\n",
    "\n",
    "plt.subplot(2, 3, 3)\n",
    "fig = df.boxplot(column='WindGustSpeed')\n",
    "fig.set_ylabel('WindGustSpeed [$km\\,/\\,h$]')\n",
    "\n",
    "\n",
    "plt.subplot(2, 3, 4)\n",
    "fig = df.boxplot(column='WindSpeed9am')\n",
    "fig.set_ylabel('WindSpeed9am [$km\\,/\\,h$]')\n",
    "\n",
    "\n",
    "plt.subplot(2, 3, 5)\n",
    "fig = df.boxplot(column='WindSpeed3pm')\n",
    "fig.set_ylabel('WindSpeed3pm [$km\\,/\\,h$]')\n",
    "\n",
    "plt.show()"
   ]
  },
  {
   "cell_type": "markdown",
   "metadata": {},
   "source": [
    "Undoubtedly we do have some outliners in these features! We will need to deal with them later on."
   ]
  },
  {
   "cell_type": "code",
   "execution_count": null,
   "metadata": {},
   "outputs": [],
   "source": []
  }
 ],
 "metadata": {
  "kernelspec": {
   "display_name": "Python 3",
   "language": "python",
   "name": "python3"
  },
  "language_info": {
   "codemirror_mode": {
    "name": "ipython",
    "version": 3
   },
   "file_extension": ".py",
   "mimetype": "text/x-python",
   "name": "python",
   "nbconvert_exporter": "python",
   "pygments_lexer": "ipython3",
   "version": "3.7.4"
  }
 },
 "nbformat": 4,
 "nbformat_minor": 2
}
